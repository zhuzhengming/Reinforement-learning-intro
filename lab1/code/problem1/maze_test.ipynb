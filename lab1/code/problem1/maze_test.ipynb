{
 "cells": [
  {
   "cell_type": "code",
   "execution_count": 6,
   "outputs": [
    {
     "data": {
      "text/plain": "<Figure size 800x700 with 1 Axes>",
      "image/png": "[encoded data removed]"
     },
     "metadata": {},
     "output_type": "display_data"
    }
   ],
   "source": [
    "import numpy as np\n",
    "import maze as mz\n",
    "# Description of the maze as a numpy array\n",
    "maze = np.array([\n",
    "    [0, 0, 1, 0, 0, 0, 0, 0],\n",
    "    [0, 0, 1, 0, 0, 1, 0, 0],\n",
    "    [0, 0, 1, 0, 0, 1, 1, 1],\n",
    "    [0, 0, 1, 0, 0, 1, 0, 0],\n",
    "    [0, 0, 0, 0, 0, 0, 0, 0],\n",
    "    [0, 1, 1, 1, 1, 1, 1, 0],\n",
    "    [0, 0, 0, 0, 1, 2, 0, 0],\n",
    "])\n",
    "# with the convention \n",
    "# 0 = empty cell\n",
    "# 1 = obstacle\n",
    "# 2 = exit of the Maze\n",
    "mz.draw_maze(maze)\n",
    "\n",
    "env = mz.Maze(maze)\n",
    "# env.show()"
   ],
   "metadata": {
    "collapsed": false,
    "ExecuteTime": {
     "end_time": "2023-11-28T21:19:21.927088700Z",
     "start_time": "2023-11-28T21:19:21.525140900Z"
    }
   },
   "id": "b0443191d0065fe6"
  },
  {
   "cell_type": "markdown",
   "source": [
    "## Basic Maze\n",
    "\n",
    "#### a) MDP formulation\n",
    "\n",
    "We propose the following MDP formulation: \n",
    "\n",
    "##### State space $\\mathcal{S}$\n",
    "We model the state space as the set of all possible positions of the player and all possible positions of the Minotaur in the maze. Formally, the state space is\n",
    "\n",
    "$$\\mathcal{S} = \\big\\lbrace (i,j,x,y):\\textrm{such that the cell\n",
    "} (i,j) \\textrm{ is the position of the player and not an obstacle}, \\\\   (x,y) \\textrm { is the position of the Minotaur}\\big\\rbrace.$$\n",
    "\n",
    "##### Action space $\\mathcal{A}$\n",
    "We allow the player to chose to either move `left`, `right`, `down`, `up` or not move at all (`stay`). Note that sometimes the player cannot move in a certain direction because of an obstacle or a wall, yet we permit this to be action. We will see that this is not an issue as long as we define our transition probabilities and rewards appropriately.\n",
    "Formally, the action space is\n",
    "\n",
    "$$\\mathcal{A} = \\lbrace \\textrm{up}, \\textrm{ down}, \\textrm{ left}, \\textrm{ right}, \\textrm{ stay} \\rbrace.$$\n",
    "\n",
    "##### Transition probabilities $\\mathcal{P}$\n",
    "Note that there is no randomness involved upon taking an action by the player. As a consequence, the transition probabilities are deterministic. More precisely, \n",
    "Only the player's next state is decided by the action deterministically. The action of the Minotaur is random and the transition probability is related to the position where the Minotaur is. \n",
    "- If at state (or position) $s$, the position of the Minotaur is in the middle of the map, then $\\mathbb{P}(s' \\vert s, a) = \\frac{1}{4}$. \n",
    "- If at state (or position)  $s$ , the position of the Minotaur is in the borders of the map (not in the corners), then $\\mathbb{P}(s' \\vert s, a) = \\frac{1}{3}$.\n",
    "- If at state (or position)  $s$ , the position of the Minotaur is in the corners of the map, then $\\mathbb{P}(s' \\vert s, a) = \\frac{1}{2}$.\n",
    "\n",
    "\n",
    "##### Rewards $\\mathcal{R}$\n",
    "The objective of the player is to find the exit of the maze while avoiding the obstacles.    \n",
    "   - If at state $s$, taking action $a$, leads to a wall or an obstacle then $r(s,a) = -\\infty$\n",
    "   - If at state $s$, taking action $a$, leads to caught by the Minotaur then $r(s,a) = -\\infty$\n",
    "   - If at state $s$, taking action $a$, leads to some other position in the maze that is not the exit nor a wall nor an obstacle, then $r(s, a) = -1$. \n",
    "   - If at state $s$, taking action $a$, leads to the exit then $r(s ,a) = 0$. \n",
    "  "
   ],
   "metadata": {
    "collapsed": false
   },
   "id": "2c0c5a95543b786"
  },
  {
   "cell_type": "markdown",
   "source": [
    "#### b) Moving in alternating rounds\n",
    "The MDP model should be the same. But during the simulation step, there might be a higher probability for the player caught by the Minotaur if they move in alternating round. \n",
    "We can consider such a scenario as showed below. And the player chooses to move left and the Minotaur moves to the right. If they move at the same time, the player could survive as the game rule. But if they move in alternating rounds, the player would be caught for whether the player moving firstly or the Minotaur moving firstly.\n",
    "![scenario](./scenario.png)"
   ],
   "metadata": {
    "collapsed": false
   },
   "id": "1c3a6975c1f53aae"
  },
  {
   "cell_type": "markdown",
   "source": [
    "## Dynamic Programming\n",
    "\n",
    "#### c) Solve the problem: find a policy that maximizes the probability of leaving the maze alive (in the shortest time possible) for T = 20. Illustrate this policy.\n",
    "\n",
    " The policy is solved as below. And the policy is a function related to the states and the time t. Such a function mapping can be illustrated as printed."
   ],
   "metadata": {
    "collapsed": false
   },
   "id": "3d86aab87565ef73"
  },
  {
   "cell_type": "code",
   "execution_count": 5,
   "outputs": [
    {
     "ename": "AttributeError",
     "evalue": "module 'maze_h' has no attribute 'dynamic_programming'",
     "output_type": "error",
     "traceback": [
      "\u001B[1;31m---------------------------------------------------------------------------\u001B[0m",
      "\u001B[1;31mAttributeError\u001B[0m                            Traceback (most recent call last)",
      "Cell \u001B[1;32mIn[5], line 4\u001B[0m\n\u001B[0;32m      2\u001B[0m horizon \u001B[38;5;241m=\u001B[39m \u001B[38;5;241m20\u001B[39m\n\u001B[0;32m      3\u001B[0m \u001B[38;5;66;03m# Solve the MDP problem with dynamic programming \u001B[39;00m\n\u001B[1;32m----> 4\u001B[0m V, policy\u001B[38;5;241m=\u001B[39m mz\u001B[38;5;241m.\u001B[39mdynamic_programming(env,horizon);\n\u001B[0;32m      5\u001B[0m np\u001B[38;5;241m.\u001B[39mset_printoptions(threshold\u001B[38;5;241m=\u001B[39mnp\u001B[38;5;241m.\u001B[39minf);\n\u001B[0;32m      7\u001B[0m \u001B[38;5;66;03m# Simulate the shortest path starting from position A\u001B[39;00m\n",
      "\u001B[1;31mAttributeError\u001B[0m: module 'maze_h' has no attribute 'dynamic_programming'"
     ]
    }
   ],
   "source": [
    "# Finite horizon\n",
    "horizon = 20\n",
    "# Solve the MDP problem with dynamic programming \n",
    "V, policy= mz.dynamic_programming(env,horizon);\n",
    "np.set_printoptions(threshold=np.inf);\n",
    "\n",
    "# Simulate the shortest path starting from position A\n",
    "method = 'DynProg';\n",
    "start  = (0,0,6,5);\n",
    "path, _ = env.simulate(start, policy, method);\n",
    "print(path)"
   ],
   "metadata": {
    "collapsed": false,
    "ExecuteTime": {
     "end_time": "2023-11-28T21:19:12.834214900Z",
     "start_time": "2023-11-28T21:19:12.339182200Z"
    }
   },
   "id": "751bacd4824c9e2b"
  },
  {
   "cell_type": "code",
   "execution_count": null,
   "outputs": [],
   "source": [
    "# Show the shortest path \n",
    "mz.animate_solution(maze, path)"
   ],
   "metadata": {
    "collapsed": false,
    "ExecuteTime": {
     "start_time": "2023-11-28T19:07:40.431014Z"
    }
   },
   "id": "362ed3ddd401fc70"
  },
  {
   "cell_type": "markdown",
   "source": [
    " #### d)For T = 1,..., 30 compute a policy that maximizes the probability of exiting the maze alive (in the shortest time possible) and plot the probability. Is there a difference if the minotaur is allowed to stand still? If so, why?\n",
    " The probability would drop a bit if the Minotaur is allowed to stand still. Because the action space of the Minotaur is more complex and more unpredictable. Thus, it is harder to make an optimal decision to help the player exit the maze."
   ],
   "metadata": {
    "collapsed": false
   },
   "id": "3639ceabfd752c9a"
  },
  {
   "cell_type": "code",
   "execution_count": null,
   "outputs": [],
   "source": [
    "import matplotlib.pyplot as pyplt\n",
    "\n",
    "N = 1000;\n",
    "T = 31;\n",
    "rate = [];\n",
    "for t in range(1, T):\n",
    "    success_cnt = 0;\n",
    "    horizon = t;\n",
    "    # Solve the MDP problem with dynamic programming \n",
    "    V, policy= mz.dynamic_programming(env,horizon);\n",
    "    for i in range(0, N):\n",
    "        method = 'DynProg';\n",
    "        start  = (0, 0, 6, 5);\n",
    "        path, flag= env.simulate(start, policy, method);\n",
    "        if flag:\n",
    "            success_cnt = success_cnt + 1;\n",
    "    success_rate = success_cnt/N;\n",
    "    rate.append(success_rate);\n",
    "\n",
    "pyplt.plot(rate);"
   ],
   "metadata": {
    "collapsed": false,
    "ExecuteTime": {
     "start_time": "2023-11-28T19:07:40.434966200Z"
    }
   },
   "id": "bd9a6abadecd149c"
  },
  {
   "cell_type": "code",
   "execution_count": null,
   "outputs": [],
   "source": [
    "import matplotlib.pyplot as pyplt\n",
    "\n",
    "env = mz.Maze(maze, Stay=True) # monitaur can be still\n",
    "\n",
    "N = 1000;\n",
    "T = 31;\n",
    "rate = [];\n",
    "for t in range(1, T):\n",
    "    success_cnt = 0;\n",
    "    horizon = t;\n",
    "    # Solve the MDP problem with dynamic programming \n",
    "    V, policy= mz.dynamic_programming(env,horizon);\n",
    "    for i in range(0, N):\n",
    "        method = 'DynProg';\n",
    "        start  = (0, 0, 6, 5);\n",
    "        path, flag= env.simulate(start, policy, method);\n",
    "        if flag:\n",
    "            success_cnt = success_cnt + 1;\n",
    "    success_rate = success_cnt/N;\n",
    "    rate.append(success_rate);\n",
    "\n",
    "pyplt.plot(rate);"
   ],
   "metadata": {
    "collapsed": false,
    "ExecuteTime": {
     "start_time": "2023-11-28T19:07:40.437010Z"
    }
   },
   "id": "8865ec3eb47d27d6"
  },
  {
   "cell_type": "markdown",
   "source": [],
   "metadata": {
    "collapsed": false
   },
   "id": "f33a0048d96bd588"
  },
  {
   "cell_type": "markdown",
   "source": [
    "#### e) The state \"game over by poison\" should be added to state space. And adding another reward of POISON_REWARD = -100.\n",
    "The probability of transition will change because of new additional state. The action space and remain the same.\n",
    "$$Alive: \\\\\n",
    "r'(s,a) = r(s,a) \\\\ p'(s'|s,a) = \\frac{29}{30} p(s'|s,a) \\\\\n",
    "Dead: \\\\ r'(s,a) = -100 \\\\ p'(s'|s,a) = \\frac{1}{30}\n",
    "$$"
   ],
   "metadata": {
    "collapsed": false
   },
   "id": "444b2213c57dcb1a"
  },
  {
   "cell_type": "code",
   "execution_count": null,
   "outputs": [],
   "source": [
    "# Discount Factor \n",
    "gamma   = 0.95; \n",
    "# Accuracy threshold \n",
    "epsilon = 0.0001;\n",
    "V, policy = mz.value_iteration(env, gamma, epsilon, poison_mode=True)"
   ],
   "metadata": {
    "collapsed": false,
    "ExecuteTime": {
     "start_time": "2023-11-28T19:07:40.438009Z"
    }
   },
   "id": "eb3aba482609107f"
  },
  {
   "cell_type": "code",
   "execution_count": null,
   "outputs": [],
   "source": [
    "method = 'ValIter';\n",
    "start  = (0,0,6,5);\n",
    "path, _ = env.simulate(start, policy, method)\n",
    "print(path)"
   ],
   "metadata": {
    "collapsed": false,
    "ExecuteTime": {
     "start_time": "2023-11-28T19:07:40.439007200Z"
    }
   },
   "id": "fa77045d2a3d4a0c"
  },
  {
   "cell_type": "code",
   "execution_count": null,
   "outputs": [],
   "source": [
    "# Show the shortest path \n",
    "mz.animate_solution(maze, path)"
   ],
   "metadata": {
    "collapsed": false,
    "ExecuteTime": {
     "start_time": "2023-11-28T19:07:40.440004900Z"
    }
   },
   "id": "372cbeb3d941ea6c"
  },
  {
   "cell_type": "markdown",
   "source": [
    "#### (f)Estimate the probability of getting out alive using this policy by simulating 10000 games."
   ],
   "metadata": {
    "collapsed": false
   },
   "id": "3a1e08f2f2ab885"
  },
  {
   "cell_type": "code",
   "execution_count": null,
   "outputs": [],
   "source": [
    "N = 10000;\n",
    "success_cnt = 0;\n",
    "for i in range(0,N):\n",
    "    path, flag = env.simulate(start, policy, method);\n",
    "    if flag:\n",
    "        success_cnt = success_cnt + 1;\n",
    "success_rate  = success_cnt/N;\n",
    "print(success_rate)\n",
    "        "
   ],
   "metadata": {
    "collapsed": false,
    "ExecuteTime": {
     "start_time": "2023-11-28T19:07:40.440004900Z"
    }
   },
   "id": "86a9eef21e2ff20f"
  },
  {
   "cell_type": "markdown",
   "source": [
    "## Additional Questions\n",
    "#### g) Theoretical questions:\n",
    "##### 1)What does it mean that a learning method is on-policy or off-policy?\n",
    "\n",
    "Observations in on-policy is generated under the policy $\\pi_k$. Through iterations, $\\pi_k$ will converge to the optimal policy.\n",
    "Off-policy obtain observations from a certain policy $\\pi_b$. It learns from the historical data.\n",
    "\n",
    "##### 2)State the convergence conditions for Q-learning and SARSA.\n",
    "  \n",
    "The convergence condition for Q-learning is showed belowed,\n",
    "  the learning rate,$\\alpha_t$should satisfy\n",
    "    $\\sum_{t=0}^{\\infty}\\alpha_t=\\infty$ and $\\sum_{t=0}^{\\infty}\\alpha_t^2 < \\infty$,\n",
    "    and the behaviour exploring the state and action space enough.\n",
    "  \n",
    "SARSA cannot converge to a optimal policy, but when t is large enough, $\\pi_t$ could be regarded as the optimal policy approximately.\n"
   ],
   "metadata": {
    "collapsed": false
   },
   "id": "1ae91ec919aa0520"
  },
  {
   "cell_type": "markdown",
   "source": [
    "#### (h)\n",
    "We propose the following MDP formulation: \n",
    "\n",
    "##### State space $\\mathcal{S}$\n",
    "We model the state space as the set of all possible positions of the player and all possible positions of the Minotaur in the maze. Formally, the state space is\n",
    "\n",
    "$$\\mathcal{S} = \\big\\lbrace P\\in(i,j,x,y):\\textrm{such that the cell\n",
    "} (i,j) \\textrm{ is the position of the player and not an obstacle}, \\\\   (x,y) \\textrm { is the position of the Minotaur}\\big\\rbrace\\cup\\big\\lbrace{key}\\big\\rbrace\\cup\\big\\lbrace{Poison\\}.$$\n",
    "\n",
    "##### Action space $\\mathcal{A}$\n",
    "We allow the player to choose to either move `left`, `right`, `down`, `up` or not move at all (`stay`). Note that sometimes the player cannot move in a certain direction because of an obstacle or a wall, yet we permit this to be action. We will see that this is not an issue as long as we define our transition probabilities and rewards appropriately.\n",
    "Formally, the action space is\n",
    "\n",
    "$$\\mathcal{A} = \\lbrace \\textrm{up}, \\textrm{ down}, \\textrm{ left}, \\textrm{ right}, \\textrm{ stay} \\rbrace.$$\n",
    "\n",
    "##### Transition probabilities $\\mathcal{P}$\n",
    "Assume $M(s)$ is the number of directions that the Minotaur can take in state $\\mathcal{S}$.(It could be 2, 3 or 4, depending on the position of the Mintaur)\n",
    "- $\\mathbb{P}(s' \\vert s, a) = (1-P_{poison})0.35$, the Minotaur moving towards the player. \n",
    "- $\\mathbb{P}(s' \\vert s, a) = (1-P_{poison})\\frac{0.65}{M(s)-1}$, the Minotaur moving randomly.\n",
    "- $\\mathbb{P}(s'=poison \\vert s, a) = P_{poison}$, the Player is dead because of poison. \n",
    "\n",
    "##### Rewards $\\mathcal{R}$\n",
    "The objective of the player is to find the exit of the maze while avoiding the obstacles.    \n",
    "   - If at state $s$, taking action $a$, leads to a wall or an obstacle then $r(s,a) = -1000$\n",
    "   - If at state $s$, taking action $a$, leads to caught by the Minotaur then $r(s,a) = -1000$\n",
    "   - If at state $s$, taking action $a$, leads to the exit with keys then $r(s ,a) = 10000$. \n",
    "   - If at state $s$, taking action $a$, leads to C without keys then $r(s ,a) = 10000$. \n",
    "   - If at state $s$, taking action $a$, leads to die by poison then $r(s ,a) = -1000$.\n",
    "   - Else, then $r(s, a) = -1$. "
   ],
   "metadata": {
    "collapsed": false
   },
   "id": "726e802fc7b1a89c"
  },
  {
   "cell_type": "markdown",
   "source": [
    "#### (i) Compute a policy that solves problem (h). Implement the episodic Q-learning algorithm using an ε-greedy policy. Note that you should not reset the Q-values between one episode and the other (remember to update the Q-values in each round!)\n",
    "##### 1)Describe your implementation in pseudo code:\n",
    "1: Initialize Q values and other parameters\n",
    "2: for episodes k = 1,2,……,N do\n",
    "3: $\\quad$   Initialize environment and read initial state $s_0$ \n",
    "4: $\\quad$    $t \\leftarrow 0$\n",
    "5: $\\quad$    while Episode k is not finished do \n",
    "6: $\\quad$    $\\quad$   Select action $a_t$ according to some policy based on the Q-values\n",
    "7: $\\quad$    $\\quad$   Observe the next state $s_{t+1}$ and rewards $r_t$\n",
    "8: $\\quad$    $\\quad$   Update Q-values according to $(s_t, a_t, s_{t+1}, r_{t})$:\n",
    "$$ Q^{(t+1)}(s,a) = Q^{(t)}(s,a) + 1_{(s_t,a_t)=_{(s,a)}a_{n^{(t)}}(s_t,a_t)} [r_t+\\lambda \\max_{b \\in A}Q^{(t)}(s_{t+1}, b) - Q^{(t)}(s_t,a_t) ]$$\n",
    "9: $\\quad$    $\\quad$   $t \\leftarrow t+1$\n",
    "10:$\\quad$ end while\n",
    "11:end for \n",
    "\n",
    "\n",
    "\n"
   ],
   "metadata": {
    "collapsed": false
   },
   "id": "9a41caffb3e529fa"
  },
  {
   "cell_type": "markdown",
   "source": [
    "#### Compute the policy by Q-learning"
   ],
   "metadata": {
    "collapsed": false
   },
   "id": "399ab57ca11979d4"
  },
  {
   "cell_type": "code",
   "execution_count": 2,
   "outputs": [
    {
     "data": {
      "text/plain": "<Figure size 800x700 with 1 Axes>",
      "image/png": "[encoded data removed]"
     },
     "metadata": {},
     "output_type": "display_data"
    }
   ],
   "source": [
    "import numpy as np\n",
    "import maze_bonus_Q_learning as mz_Q\n",
    "# Description of the maze as a numpy array\n",
    "maze = np.array([\n",
    "    [0, 0, 1, 0, 0, 0, 0, 3],\n",
    "    [0, 0, 1, 0, 0, 1, 0, 0],\n",
    "    [0, 0, 1, 0, 0, 1, 1, 1],\n",
    "    [0, 0, 1, 0, 0, 1, 0, 0],\n",
    "    [0, 0, 0, 0, 0, 0, 0, 0],\n",
    "    [0, 1, 1, 1, 1, 1, 1, 0],\n",
    "    [0, 0, 0, 0, 1, 2, 0, 0],\n",
    "])\n",
    "# with the convention \n",
    "# 0 = empty cell\n",
    "# 1 = obstacle\n",
    "# 2 = exit of the Maze\n",
    "# 3 = key\n",
    "mz_Q.draw_maze(maze)\n",
    "\n",
    "env = mz_Q.Maze(maze)\n",
    "# env.show()"
   ],
   "metadata": {
    "collapsed": false,
    "ExecuteTime": {
     "end_time": "2023-11-30T14:06:43.978136900Z",
     "start_time": "2023-11-30T14:06:42.761836700Z"
    }
   },
   "id": "655f282a4ce9a259"
  },
  {
   "cell_type": "code",
   "execution_count": 4,
   "outputs": [
    {
     "data": {
      "text/plain": "<Figure size 800x700 with 1 Axes>",
      "image/png": "[encoded data removed]"
     },
     "metadata": {},
     "output_type": "display_data"
    }
   ],
   "source": [
    "# initialization\n",
    "import matplotlib.pyplot as plt\n",
    "epsilon1 = 0.1;\n",
    "epsilon2 = 0.4;\n",
    "alpha1 = 2/3;\n",
    "alpha2 = 0.8;\n",
    "num_episodes = 100000;\n",
    "gamma = 0.95;\n",
    "start = (0,0,6,5,0);\n",
    "\n",
    "# epsilon1 = 0.1;\n",
    "td_errors1, policy1, V1 = mz_Q.Q_learning(env, epsilon1, num_episodes, gamma, start,alpha1, poison_mode=True)\n",
    "# epsilon1 = 0.2;\n",
    "td_errors2, policy2, V2 = mz_Q.Q_learning(env, epsilon2, num_episodes, gamma,  start, alpha1, poison_mode=True)\n",
    "# # # alpha1 = 2/3;\n",
    "td_errors3, policy3, V3= mz_Q.Q_learning(env, epsilon1, num_episodes, gamma, start, alpha2, poison_mode=True)\n",
    "\n",
    "# animate the solution\n",
    "method = 'Q-learning';\n",
    "path, _ = env.simulate(start, policy1, method)\n",
    "mz_Q.animate_solution(maze, path)"
   ],
   "metadata": {
    "collapsed": false
   },
   "id": "8e94f79532ed8f28"
  },
  {
   "cell_type": "markdown",
   "source": [
    "##### 2)Solve the Problem for 2 different values of the exploration parameter ε. Create a plot of the value function over episodes of the initial state, showing the convergence of the algorithm. Use a step size of $1/n(s, a)^{2/3}$, where n(s, a) is the number of times you visited the pair (s, a). Discuss the results, and whether a proper initialization of the Q-values may affect convergence speed. Note: Simulate for 50000 episodes.\n",
    "As a matter of fact, high $\\epsilon$ means that more exploration, the algorithm tends to explore new actions rather than repeating what it already knows to be the best action. On the other hand, low $\\epsilon$ means more exploitation. Therefore, according to the experiment, we set $\\epsilon$ = 0.1 and 0.4, we can see that bigger $\\epsilon$ brings quicker convergence speed at first, because player can explore more space, then smaller $\\epsilon$ make the model converge quicker since it already found the best choice."
   ],
   "metadata": {
    "collapsed": false
   },
   "id": "6be729aca0e68629"
  },
  {
   "cell_type": "code",
   "execution_count": 6,
   "outputs": [],
   "source": [
    "def moving_average(data, window_size):\n",
    "    weights = np.ones(window_size) / window_size\n",
    "    return np.convolve(data, weights, mode='valid')"
   ],
   "metadata": {
    "collapsed": false,
    "ExecuteTime": {
     "end_time": "2023-11-29T17:23:57.614424400Z",
     "start_time": "2023-11-29T17:23:57.610453500Z"
    }
   },
   "id": "66268e11a8683f7f"
  },
  {
   "cell_type": "code",
   "execution_count": 7,
   "outputs": [
    {
     "data": {
      "text/plain": "Text(0.5, 1.0, 'epsilon=0.2, alpha=2/3')"
     },
     "execution_count": 7,
     "metadata": {},
     "output_type": "execute_result"
    },
    {
     "data": {
      "text/plain": "<Figure size 640x480 with 1 Axes>",
      "image/png": "[encoded data removed]"
     },
     "metadata": {},
     "output_type": "display_data"
    },
    {
     "data": {
      "text/plain": "<Figure size 640x480 with 1 Axes>",
      "image/png": "[encoded data removed]"
     },
     "metadata": {},
     "output_type": "display_data"
    }
   ],
   "source": [
    "V1_smoothed = moving_average(V1, window_size=1)\n",
    "V2_smoothed = moving_average(V2, window_size=1)\n",
    "# plot 1\n",
    "# plt.subplot(2,1,1)\n",
    "plt.figure(1)\n",
    "plt.plot(V1_smoothed)\n",
    "plt.title('epsilon=0.1, alpha=2/3')\n",
    "# plot 2\n",
    "plt.figure(2)\n",
    "# plt.subplot(2,1,2)\n",
    "fig2 = plt.plot(V2_smoothed)\n",
    "plt.title('epsilon=0.2, alpha=2/3')"
   ],
   "metadata": {
    "collapsed": false,
    "ExecuteTime": {
     "end_time": "2023-11-29T17:23:59.174899Z",
     "start_time": "2023-11-29T17:23:58.979850100Z"
    }
   },
   "id": "8ff82eeeac561e8b"
  },
  {
   "cell_type": "markdown",
   "source": [
    "##### 3) Fix the value of the exploration parameter ε. Show the convergence of the algorithm for 2 different step sizes $1/n(s, a)^α$, with α ∈ (0.5, 1]. Discuss the results.\n",
    "\n",
    "We fixed $\\epsilon$ = 0.1, and choose $\\alpha$=0.67 and 0.8. We can find that the function of $\\alpha$ is balancing the learning rate, which makes it decrease from time to time. Because bug learning rate make Q value move faster towards the optimal target. So, we can see the impact on convergence, when $\\alpha$ is larger, the convergence speed is slower. "
   ],
   "metadata": {
    "collapsed": false
   },
   "id": "76d12840681796a8"
  },
  {
   "cell_type": "code",
   "execution_count": 8,
   "outputs": [
    {
     "data": {
      "text/plain": "Text(0.5, 1.0, 'epsilon=0.1, alpha=0.8')"
     },
     "execution_count": 8,
     "metadata": {},
     "output_type": "execute_result"
    },
    {
     "data": {
      "text/plain": "<Figure size 640x480 with 1 Axes>",
      "image/png": "[encoded data removed]"
     },
     "metadata": {},
     "output_type": "display_data"
    },
    {
     "data": {
      "text/plain": "<Figure size 640x480 with 1 Axes>",
      "image/png": "[encoded data removed]"
     },
     "metadata": {},
     "output_type": "display_data"
    }
   ],
   "source": [
    "V1_smoothed = moving_average(V1, window_size=1)\n",
    "V3_smoothed = moving_average(V3, window_size=1)\n",
    "\n",
    "# plot 1\n",
    "# plt.subplot(2,1,1)\n",
    "plt.figure(1)\n",
    "plt.plot(V1_smoothed)\n",
    "plt.title('epsilon=0.1, alpha=2/3')\n",
    "# plot 2\n",
    "plt.figure(2)\n",
    "# plt.subplot(2,1,2)\n",
    "plt.plot(V3_smoothed)\n",
    "plt.title('epsilon=0.1, alpha=0.8')"
   ],
   "metadata": {
    "collapsed": false,
    "ExecuteTime": {
     "end_time": "2023-11-29T17:33:41.892958400Z",
     "start_time": "2023-11-29T17:33:41.695409400Z"
    }
   },
   "id": "b5c2071b0df6b9f5"
  },
  {
   "cell_type": "markdown",
   "source": [
    "#### (j) Now compute a policy that solves problem (h) by implementing the SARSA algorithm."
   ],
   "metadata": {
    "collapsed": false
   },
   "id": "4e70f4fbec5dcede"
  },
  {
   "cell_type": "code",
   "execution_count": null,
   "outputs": [],
   "source": [
    "import maze_bonus_sarsa as mz_S\n",
    "import numpy as np\n",
    "\n",
    "maze = np.array([\n",
    "    [0, 0, 1, 0, 0, 0, 0, 3],\n",
    "    [0, 0, 1, 0, 0, 1, 0, 0],\n",
    "    [0, 0, 1, 0, 0, 1, 1, 1],\n",
    "    [0, 0, 1, 0, 0, 1, 0, 0],\n",
    "    [0, 0, 0, 0, 0, 0, 0, 0],\n",
    "    [0, 1, 1, 1, 1, 1, 1, 0],\n",
    "    [0, 0, 0, 0, 1, 2, 0, 0],\n",
    "])\n",
    "env = mz_S.Maze(maze)"
   ],
   "metadata": {
    "collapsed": false
   },
   "id": "8901493695065e9c"
  },
  {
   "cell_type": "code",
   "execution_count": null,
   "outputs": [],
   "source": [
    "episodes = 50000\n",
    "epsilon = 0.1\n",
    "alpha = 2/3\n",
    "lambda_para = 0.95\n",
    "sarsa, re, conv, Q_init= mz_S.SARSA_algorithm(env, episodes, epsilon, alpha, lambda_para)\n",
    "\n",
    "path = mz_S.sarsa_simulation(env, sarsa)      #an example simulation under the solved policy\n",
    "print(path)"
   ],
   "metadata": {
    "collapsed": false
   },
   "id": "5fbc2cc23860fca6"
  },
  {
   "cell_type": "markdown",
   "source": [
    "##### 1) What differs in the implementation with respect to Q-learning?\n",
    "During an episode, the policy used by SARSA may change, but Q-learning uses a fixed policy.\n",
    "\n",
    "##### 2) Solve for $\\epsilon = 0.2$ and $\\epsilon = 0.1$, using a step size of $\\frac{1}{n(s, a)^\\alpha}$, with $\\alpha = 2/3$. Create a plot of the value function over episodes of the initial state. Discuss the results, and whether a proper initialization of the Q-values may affect convergence speed. Note: Simulate for 50000 episodes.\n",
    "The Q-value can increase more rapidly with $\\epsilon = 0.1$.\n",
    "A proper initialization of Q-values will increase the convergence speed. A Q-value which is closer to the true state will help the convergence."
   ],
   "metadata": {
    "collapsed": false
   },
   "id": "887a775bbfebd0bf"
  },
  {
   "cell_type": "code",
   "execution_count": null,
   "outputs": [],
   "source": [
    "import matplotlib.pyplot as plt\n",
    "episodes = 50000\n",
    "epsilon = 0.1\n",
    "alpha = 2/3\n",
    "lambda_para = 0.95\n",
    "sarsa1, re_1, conv_1, Q_init_1= mz.SARSA_algorithm(env, episodes, epsilon, alpha, lambda_para)\n",
    "epsilon = 0.2\n",
    "sarsa2, re_2, conv_2, Q_init_2= mz.SARSA_algorithm(env, episodes, epsilon, alpha, lambda_para)\n",
    "plt.figure(1)\n",
    "plt.plot(Q_init_1)\n",
    "plt.title(\"ε = 0.1\")\n",
    "plt.figure(2)\n",
    "plt.plot(Q_init_2)\n",
    "plt.title(\"ε = 0.2\")"
   ],
   "metadata": {
    "collapsed": false
   },
   "id": "56fedc72686c473b"
  },
  {
   "cell_type": "code",
   "execution_count": null,
   "outputs": [],
   "source": [
    "Num = 50000\n",
    "cnt = 0\n",
    "for i in range(Num):\n",
    "    path = mz_S.sarsa_simulation(env, sarsa1)\n",
    "    if(env.maze[path[-1][0]][path[-1][1]] == 2):\n",
    "        cnt += 1\n",
    "print(\"success rate with ε = 0.1:\",cnt/Num)\n",
    "\n",
    "cnt = 0\n",
    "for i in range(Num):\n",
    "    path = mz_S.sarsa_simulation(env, sarsa2)\n",
    "    if(env.maze[path[-1][0]][path[-1][1]] == 2):\n",
    "        cnt += 1\n",
    "print(\"success rate with ε = 0.2:\",cnt/Num)"
   ],
   "metadata": {
    "collapsed": false
   },
   "id": "d377c8de4a83ae9"
  },
  {
   "cell_type": "markdown",
   "source": [
    "##### 3) Now consider the case where the exploration parameter $\\epsilon$ decreases in each episode (for example, in episode $k = 1,...$ choose $\\epsilon_k = 1/k^\\delta$ with $\\delta \\in (0.5, 1]$). Does convergence improve? Is it better to have $\\alpha > \\delta$, or the opposite? Argument your answers.\n",
    "The convergence has been improved compared to fixed $\\epsilon$.\n",
    "Bigger $\\delta$ indicates smaller $\\epsilon$. With a smaller $\\epsilon$, the agent will explore more conservatively. And bigger $\\alpha$ also means a smaller learning rate. So the agent will absorb new information less. But too big $\\epsilon$ and learning rate might make the learning process more unstable. Thus, I think there is a balance between how fast we should take into the new information and how aggressively we should explore the space. But in general, bigger $\\alpha$ and smaller $\\delta$ indicate that the agent will explore diverse states, and, at the same time, absorb new information cautiously. This might be good for the convergence."
   ],
   "metadata": {
    "collapsed": false
   },
   "id": "f28e116e4dc8f8fe"
  },
  {
   "cell_type": "code",
   "execution_count": null,
   "outputs": [],
   "source": [
    "import matplotlib.pyplot as plt\n",
    "episodes = 50000\n",
    "epsilon = 0.2\n",
    "alpha = 2/3\n",
    "lambda_para = 0.95\n",
    "sarsa_3, re_3, conv_3, Q_init_3= mz_S.SARSA_algorithm(env, episodes, epsilon, alpha, lambda_para, True)\n",
    "plt.subplot(1, 2, 1)\n",
    "plt.plot(conv_2)\n",
    "plt.title(\"convergence with fixed ε\")\n",
    "plt.subplot(1, 2, 2)\n",
    "plt.plot(conv_3)\n",
    "plt.title(\"convergence with changing ε\")"
   ],
   "metadata": {
    "collapsed": false
   },
   "id": "54b4b4c167b99b80"
  },
  {
   "cell_type": "markdown",
   "source": [
    "##### (k)Estimate the probability of leaving the maze using (1) a policy computed through Q-learning, and (2) another policy computed using SARSA. (Somewhat harder question) Are the probabilities close to the Q-value of the initial state (for the respective learning method)? If so/not, explain why."
   ],
   "metadata": {
    "collapsed": false
   },
   "id": "88d1cc16fa224a3"
  },
  {
   "cell_type": "code",
   "execution_count": 22,
   "outputs": [
    {
     "name": "stdout",
     "output_type": "stream",
     "text": [
      "0.54834\n"
     ]
    }
   ],
   "source": [
    "# probability of leaving the maze using (1) a policy computed through Q-learning,\n",
    "method = 'Q-learning';\n",
    "start  = (0,0,6,5,0);\n",
    "N = 50000;\n",
    "success_cnt = 0;\n",
    "for i in range(0,N):\n",
    "    path, flag = env.simulate(start, policy1, method);\n",
    "    if flag:\n",
    "        success_cnt = success_cnt + 1;\n",
    "success_rate  = success_cnt/N;\n",
    "print(success_rate)"
   ],
   "metadata": {
    "collapsed": false,
    "ExecuteTime": {
     "end_time": "2023-11-29T14:09:46.074747900Z",
     "start_time": "2023-11-29T14:09:37.707157700Z"
    }
   },
   "id": "9d288ecf35a682fe"
  },
  {
   "cell_type": "code",
   "execution_count": null,
   "outputs": [],
   "source": [
    "# probability of leaving the maze using (1) a policy computed through Sarsa\n"
   ],
   "metadata": {
    "collapsed": false
   },
   "id": "3ccaa73887f91e73"
  }
 ],
 "metadata": {
  "kernelspec": {
   "display_name": "Python 3",
   "language": "python",
   "name": "python3"
  },
  "language_info": {
   "codemirror_mode": {
    "name": "ipython",
    "version": 2
   },
   "file_extension": ".py",
   "mimetype": "text/x-python",
   "name": "python",
   "nbconvert_exporter": "python",
   "pygments_lexer": "ipython2",
   "version": "2.7.6"
  }
 },
 "nbformat": 4,
 "nbformat_minor": 5
}
