{
 "cells": [
  {
   "cell_type": "code",
   "execution_count": 14,
   "outputs": [
    {
     "data": {
      "text/plain": "<Figure size 800x700 with 1 Axes>",
      "image/png": "[encoded data removed]"
     },
     "metadata": {},
     "output_type": "display_data"
    }
   ],
   "source": [
    "import numpy as np\n",
    "import maze as mz\n",
    "# Description of the maze as a numpy array\n",
    "maze = np.array([\n",
    "    [0, 0, 1, 0, 0, 0, 0, 0],\n",
    "    [0, 0, 1, 0, 0, 1, 0, 0],\n",
    "    [0, 0, 1, 0, 0, 1, 1, 1],\n",
    "    [0, 0, 1, 0, 0, 1, 0, 0],\n",
    "    [0, 0, 0, 0, 0, 0, 0, 0],\n",
    "    [0, 1, 1, 1, 1, 1, 1, 0],\n",
    "    [0, 0, 0, 0, 1, 2, 0, 0],\n",
    "])\n",
    "# with the convention \n",
    "# 0 = empty cell\n",
    "# 1 = obstacle\n",
    "# 2 = exit of the Maze\n",
    "mz.draw_maze(maze)\n",
    "\n",
    "env = mz.Maze(maze)\n",
    "# env.show()"
   ],
   "metadata": {
    "collapsed": false,
    "ExecuteTime": {
     "end_time": "2023-11-27T20:21:03.747393800Z",
     "start_time": "2023-11-27T20:21:03.420247600Z"
    }
   },
   "id": "b0443191d0065fe6"
  },
  {
   "cell_type": "markdown",
   "source": [
    "## Basic Maze\n",
    "\n",
    "#### a) MDP formulation\n",
    "\n",
    "We propose the following MDP formulation: \n",
    "\n",
    "##### State space $\\mathcal{S}$\n",
    "We model the state space as the set of all possible positions of the player and all possible positions of the Minotaur in the maze. Formally, the state space is\n",
    "\n",
    "$$\\mathcal{S} = \\big\\lbrace (i,j,x,y):\\textrm{such that the cell\n",
    "} (i,j) \\textrm{ is the position of the player and not an obstacle}, \\\\   (x,y) \\textrm { is the position of the Minotaur}\\big\\rbrace.$$\n",
    "\n",
    "##### Action space $\\mathcal{A}$\n",
    "We allow the player to chose to either move `left`, `right`, `down`, `up` or not move at all (`stay`). Note that sometimes the player cannot move in a certain direction because of an obstacle or a wall, yet we permit this to be action. We will see that this is not an issue as long as we define our transition probabilities and rewards appropriately.\n",
    "Formally, the action space is\n",
    "\n",
    "$$\\mathcal{A} = \\lbrace \\textrm{up}, \\textrm{ down}, \\textrm{ left}, \\textrm{ right}, \\textrm{ stay} \\rbrace.$$\n",
    "\n",
    "##### Transition probabilities $\\mathcal{P}$\n",
    "Note that there is no randomness involved upon taking an action by the player. As a consequence, the transition probabilities are deterministic. More precisely, \n",
    "Only the player's next state is decided by the action deterministically. The action of the Minotaur is random and the transition probability is related to the position where the Minotaur is. \n",
    "- If at state (or position) $s$, the position of the Minotaur is in the middle of the map, then $\\mathbb{P}(s' \\vert s, a) = \\frac{1}{4}$. \n",
    "- If at state (or position)  $s$ , the position of the Minotaur is in the borders of the map (not in the corners), then $\\mathbb{P}(s' \\vert s, a) = \\frac{1}{3}$.\n",
    "- If at state (or position)  $s$ , the position of the Minotaur is in the corners of the map, then $\\mathbb{P}(s' \\vert s, a) = \\frac{1}{2}$.\n",
    "\n",
    "\n",
    "##### Rewards $\\mathcal{R}$\n",
    "The objective of the player is to find the exit of the maze while avoiding the obstacles.    \n",
    "   - If at state $s$, taking action $a$, leads to a wall or an obstacle then $r(s,a) = -\\infty$\n",
    "   - If at state $s$, taking action $a$, leads to caught by the Minotaur then $r(s,a) = -\\infty$\n",
    "   - If at state $s$, taking action $a$, leads to some other position in the maze that is not the exit nor a wall nor an obstacle, then $r(s, a) = -1$. \n",
    "   - If at state $s$, taking action $a$, leads to the exit then $r(s ,a) = 0$. \n",
    "  "
   ],
   "metadata": {
    "collapsed": false
   },
   "id": "2c0c5a95543b786"
  },
  {
   "cell_type": "markdown",
   "source": [
    "#### b) Moving in alternating rounds\n",
    "The MDP model should be the same. But during the simulation step, there might be a higher probability for the player caught by the Minotaur if they move in alternating round. \n",
    "We can consider such a scenario as showed below. And the player chooses to move left and the Minotaur moves to the right. If they move at the same time, the player could survive as the game rule. But if they move in alternating rounds, the player would be caught for whether the player moving firstly or the Minotaur moving firstly.\n",
    "![scenario](./scenario.png)"
   ],
   "metadata": {
    "collapsed": false
   },
   "id": "1c3a6975c1f53aae"
  },
  {
   "cell_type": "markdown",
   "source": [
    "## Dynamic Programming\n",
    "\n",
    "#### c) Solve the problem: find a policy that maximizes the probability of leaving the maze alive (in the shortest time possible) for T = 20. Illustrate this policy.\n",
    "\n",
    " The policy is solved as below. And the policy is a function related to the states and the time t. Such a function mapping can be illustrated as printed."
   ],
   "metadata": {
    "collapsed": false
   },
   "id": "3d86aab87565ef73"
  },
  {
   "cell_type": "code",
   "execution_count": 12,
   "outputs": [
    {
     "name": "stdout",
     "output_type": "stream",
     "text": [
      "[(0, 0, 6, 5), (0, 1, 5, 5), (1, 1, 4, 5), (2, 1, 4, 4), (3, 1, 3, 4), (4, 1, 3, 5), (4, 2, 3, 4), (4, 3, 3, 5), (4, 4, 3, 4), (4, 5, 3, 3), (4, 6, 3, 2), (4, 7, 4, 2), (5, 7, 4, 3), (6, 7, 4, 2), (6, 6, 4, 1), (6, 5, 5, 1), (6, 5, 5, 0), (6, 5, 6, 0), (6, 5, 5, 0), (6, 5, 5, 1), (6, 5, 6, 1)]\n"
     ]
    }
   ],
   "source": [
    "# Finite horizon\n",
    "horizon = 20\n",
    "# Solve the MDP problem with dynamic programming \n",
    "V, policy= mz.dynamic_programming(env,horizon);\n",
    "np.set_printoptions(threshold=np.inf);\n",
    "\n",
    "# Simulate the shortest path starting from position A\n",
    "method = 'DynProg';\n",
    "start  = (0,0,6,5);\n",
    "path, _ = env.simulate(start, policy, method);\n",
    "print(path)"
   ],
   "metadata": {
    "collapsed": false,
    "ExecuteTime": {
     "end_time": "2023-11-27T20:20:42.571362100Z",
     "start_time": "2023-11-27T20:20:39.942347500Z"
    }
   },
   "id": "751bacd4824c9e2b"
  },
  {
   "cell_type": "code",
   "execution_count": 13,
   "outputs": [
    {
     "ename": "KeyboardInterrupt",
     "evalue": "",
     "output_type": "error",
     "traceback": [
      "\u001B[1;31m---------------------------------------------------------------------------\u001B[0m",
      "\u001B[1;31mAttributeError\u001B[0m                            Traceback (most recent call last)",
      "File \u001B[1;32mE:\\anaconda\\Lib\\site-packages\\PIL\\ImageFile.py:518\u001B[0m, in \u001B[0;36m_save\u001B[1;34m(im, fp, tile, bufsize)\u001B[0m\n\u001B[0;32m    517\u001B[0m \u001B[38;5;28;01mtry\u001B[39;00m:\n\u001B[1;32m--> 518\u001B[0m     fh \u001B[38;5;241m=\u001B[39m fp\u001B[38;5;241m.\u001B[39mfileno()\n\u001B[0;32m    519\u001B[0m     fp\u001B[38;5;241m.\u001B[39mflush()\n",
      "\u001B[1;31mAttributeError\u001B[0m: '_idat' object has no attribute 'fileno'",
      "\nDuring handling of the above exception, another exception occurred:\n",
      "\u001B[1;31mKeyboardInterrupt\u001B[0m                         Traceback (most recent call last)",
      "Cell \u001B[1;32mIn[13], line 2\u001B[0m\n\u001B[0;32m      1\u001B[0m \u001B[38;5;66;03m# Show the shortest path \u001B[39;00m\n\u001B[1;32m----> 2\u001B[0m mz\u001B[38;5;241m.\u001B[39manimate_solution(maze, path)\n",
      "File \u001B[1;32mE:\\study_file\\KTH\\EL2805Reinforcement learning\\lab1\\code\\problem1\\maze.py:559\u001B[0m, in \u001B[0;36manimate_solution\u001B[1;34m(maze, path)\u001B[0m\n\u001B[0;32m    557\u001B[0m grid\u001B[38;5;241m.\u001B[39mget_celld()[(path[i][:\u001B[38;5;241m2\u001B[39m])]\u001B[38;5;241m.\u001B[39mset_facecolor(LIGHT_ORANGE)\n\u001B[0;32m    558\u001B[0m grid\u001B[38;5;241m.\u001B[39mget_celld()[(path[i][\u001B[38;5;241m2\u001B[39m:])]\u001B[38;5;241m.\u001B[39mset_facecolor(LIGHT_PURPLE)\n\u001B[1;32m--> 559\u001B[0m display\u001B[38;5;241m.\u001B[39mdisplay(fig)\n\u001B[0;32m    560\u001B[0m display\u001B[38;5;241m.\u001B[39mclear_output(wait\u001B[38;5;241m=\u001B[39m\u001B[38;5;28;01mTrue\u001B[39;00m)\n\u001B[0;32m    561\u001B[0m time\u001B[38;5;241m.\u001B[39msleep(\u001B[38;5;241m0.1\u001B[39m)\n",
      "File \u001B[1;32mE:\\anaconda\\Lib\\site-packages\\IPython\\core\\display_functions.py:298\u001B[0m, in \u001B[0;36mdisplay\u001B[1;34m(include, exclude, metadata, transient, display_id, raw, clear, *objs, **kwargs)\u001B[0m\n\u001B[0;32m    296\u001B[0m     publish_display_data(data\u001B[38;5;241m=\u001B[39mobj, metadata\u001B[38;5;241m=\u001B[39mmetadata, \u001B[38;5;241m*\u001B[39m\u001B[38;5;241m*\u001B[39mkwargs)\n\u001B[0;32m    297\u001B[0m \u001B[38;5;28;01melse\u001B[39;00m:\n\u001B[1;32m--> 298\u001B[0m     format_dict, md_dict \u001B[38;5;241m=\u001B[39m \u001B[38;5;28mformat\u001B[39m(obj, include\u001B[38;5;241m=\u001B[39minclude, exclude\u001B[38;5;241m=\u001B[39mexclude)\n\u001B[0;32m    299\u001B[0m     \u001B[38;5;28;01mif\u001B[39;00m \u001B[38;5;129;01mnot\u001B[39;00m format_dict:\n\u001B[0;32m    300\u001B[0m         \u001B[38;5;66;03m# nothing to display (e.g. _ipython_display_ took over)\u001B[39;00m\n\u001B[0;32m    301\u001B[0m         \u001B[38;5;28;01mcontinue\u001B[39;00m\n",
      "File \u001B[1;32mE:\\anaconda\\Lib\\site-packages\\IPython\\core\\formatters.py:179\u001B[0m, in \u001B[0;36mDisplayFormatter.format\u001B[1;34m(self, obj, include, exclude)\u001B[0m\n\u001B[0;32m    177\u001B[0m md \u001B[38;5;241m=\u001B[39m \u001B[38;5;28;01mNone\u001B[39;00m\n\u001B[0;32m    178\u001B[0m \u001B[38;5;28;01mtry\u001B[39;00m:\n\u001B[1;32m--> 179\u001B[0m     data \u001B[38;5;241m=\u001B[39m formatter(obj)\n\u001B[0;32m    180\u001B[0m \u001B[38;5;28;01mexcept\u001B[39;00m:\n\u001B[0;32m    181\u001B[0m     \u001B[38;5;66;03m# FIXME: log the exception\u001B[39;00m\n\u001B[0;32m    182\u001B[0m     \u001B[38;5;28;01mraise\u001B[39;00m\n",
      "File \u001B[1;32mE:\\anaconda\\Lib\\site-packages\\decorator.py:232\u001B[0m, in \u001B[0;36mdecorate.<locals>.fun\u001B[1;34m(*args, **kw)\u001B[0m\n\u001B[0;32m    230\u001B[0m \u001B[38;5;28;01mif\u001B[39;00m \u001B[38;5;129;01mnot\u001B[39;00m kwsyntax:\n\u001B[0;32m    231\u001B[0m     args, kw \u001B[38;5;241m=\u001B[39m fix(args, kw, sig)\n\u001B[1;32m--> 232\u001B[0m \u001B[38;5;28;01mreturn\u001B[39;00m caller(func, \u001B[38;5;241m*\u001B[39m(extras \u001B[38;5;241m+\u001B[39m args), \u001B[38;5;241m*\u001B[39m\u001B[38;5;241m*\u001B[39mkw)\n",
      "File \u001B[1;32mE:\\anaconda\\Lib\\site-packages\\IPython\\core\\formatters.py:223\u001B[0m, in \u001B[0;36mcatch_format_error\u001B[1;34m(method, self, *args, **kwargs)\u001B[0m\n\u001B[0;32m    221\u001B[0m \u001B[38;5;250m\u001B[39m\u001B[38;5;124;03m\"\"\"show traceback on failed format call\"\"\"\u001B[39;00m\n\u001B[0;32m    222\u001B[0m \u001B[38;5;28;01mtry\u001B[39;00m:\n\u001B[1;32m--> 223\u001B[0m     r \u001B[38;5;241m=\u001B[39m method(\u001B[38;5;28mself\u001B[39m, \u001B[38;5;241m*\u001B[39margs, \u001B[38;5;241m*\u001B[39m\u001B[38;5;241m*\u001B[39mkwargs)\n\u001B[0;32m    224\u001B[0m \u001B[38;5;28;01mexcept\u001B[39;00m \u001B[38;5;167;01mNotImplementedError\u001B[39;00m:\n\u001B[0;32m    225\u001B[0m     \u001B[38;5;66;03m# don't warn on NotImplementedErrors\u001B[39;00m\n\u001B[0;32m    226\u001B[0m     \u001B[38;5;28;01mreturn\u001B[39;00m \u001B[38;5;28mself\u001B[39m\u001B[38;5;241m.\u001B[39m_check_return(\u001B[38;5;28;01mNone\u001B[39;00m, args[\u001B[38;5;241m0\u001B[39m])\n",
      "File \u001B[1;32mE:\\anaconda\\Lib\\site-packages\\IPython\\core\\formatters.py:340\u001B[0m, in \u001B[0;36mBaseFormatter.__call__\u001B[1;34m(self, obj)\u001B[0m\n\u001B[0;32m    338\u001B[0m     \u001B[38;5;28;01mpass\u001B[39;00m\n\u001B[0;32m    339\u001B[0m \u001B[38;5;28;01melse\u001B[39;00m:\n\u001B[1;32m--> 340\u001B[0m     \u001B[38;5;28;01mreturn\u001B[39;00m printer(obj)\n\u001B[0;32m    341\u001B[0m \u001B[38;5;66;03m# Finally look for special method names\u001B[39;00m\n\u001B[0;32m    342\u001B[0m method \u001B[38;5;241m=\u001B[39m get_real_method(obj, \u001B[38;5;28mself\u001B[39m\u001B[38;5;241m.\u001B[39mprint_method)\n",
      "File \u001B[1;32mE:\\anaconda\\Lib\\site-packages\\IPython\\core\\pylabtools.py:152\u001B[0m, in \u001B[0;36mprint_figure\u001B[1;34m(fig, fmt, bbox_inches, base64, **kwargs)\u001B[0m\n\u001B[0;32m    149\u001B[0m     \u001B[38;5;28;01mfrom\u001B[39;00m \u001B[38;5;21;01mmatplotlib\u001B[39;00m\u001B[38;5;21;01m.\u001B[39;00m\u001B[38;5;21;01mbackend_bases\u001B[39;00m \u001B[38;5;28;01mimport\u001B[39;00m FigureCanvasBase\n\u001B[0;32m    150\u001B[0m     FigureCanvasBase(fig)\n\u001B[1;32m--> 152\u001B[0m fig\u001B[38;5;241m.\u001B[39mcanvas\u001B[38;5;241m.\u001B[39mprint_figure(bytes_io, \u001B[38;5;241m*\u001B[39m\u001B[38;5;241m*\u001B[39mkw)\n\u001B[0;32m    153\u001B[0m data \u001B[38;5;241m=\u001B[39m bytes_io\u001B[38;5;241m.\u001B[39mgetvalue()\n\u001B[0;32m    154\u001B[0m \u001B[38;5;28;01mif\u001B[39;00m fmt \u001B[38;5;241m==\u001B[39m \u001B[38;5;124m'\u001B[39m\u001B[38;5;124msvg\u001B[39m\u001B[38;5;124m'\u001B[39m:\n",
      "File \u001B[1;32mE:\\anaconda\\Lib\\site-packages\\matplotlib\\backend_bases.py:2366\u001B[0m, in \u001B[0;36mFigureCanvasBase.print_figure\u001B[1;34m(self, filename, dpi, facecolor, edgecolor, orientation, format, bbox_inches, pad_inches, bbox_extra_artists, backend, **kwargs)\u001B[0m\n\u001B[0;32m   2362\u001B[0m \u001B[38;5;28;01mtry\u001B[39;00m:\n\u001B[0;32m   2363\u001B[0m     \u001B[38;5;66;03m# _get_renderer may change the figure dpi (as vector formats\u001B[39;00m\n\u001B[0;32m   2364\u001B[0m     \u001B[38;5;66;03m# force the figure dpi to 72), so we need to set it again here.\u001B[39;00m\n\u001B[0;32m   2365\u001B[0m     \u001B[38;5;28;01mwith\u001B[39;00m cbook\u001B[38;5;241m.\u001B[39m_setattr_cm(\u001B[38;5;28mself\u001B[39m\u001B[38;5;241m.\u001B[39mfigure, dpi\u001B[38;5;241m=\u001B[39mdpi):\n\u001B[1;32m-> 2366\u001B[0m         result \u001B[38;5;241m=\u001B[39m print_method(\n\u001B[0;32m   2367\u001B[0m             filename,\n\u001B[0;32m   2368\u001B[0m             facecolor\u001B[38;5;241m=\u001B[39mfacecolor,\n\u001B[0;32m   2369\u001B[0m             edgecolor\u001B[38;5;241m=\u001B[39medgecolor,\n\u001B[0;32m   2370\u001B[0m             orientation\u001B[38;5;241m=\u001B[39morientation,\n\u001B[0;32m   2371\u001B[0m             bbox_inches_restore\u001B[38;5;241m=\u001B[39m_bbox_inches_restore,\n\u001B[0;32m   2372\u001B[0m             \u001B[38;5;241m*\u001B[39m\u001B[38;5;241m*\u001B[39mkwargs)\n\u001B[0;32m   2373\u001B[0m \u001B[38;5;28;01mfinally\u001B[39;00m:\n\u001B[0;32m   2374\u001B[0m     \u001B[38;5;28;01mif\u001B[39;00m bbox_inches \u001B[38;5;129;01mand\u001B[39;00m restore_bbox:\n",
      "File \u001B[1;32mE:\\anaconda\\Lib\\site-packages\\matplotlib\\backend_bases.py:2232\u001B[0m, in \u001B[0;36mFigureCanvasBase._switch_canvas_and_return_print_method.<locals>.<lambda>\u001B[1;34m(*args, **kwargs)\u001B[0m\n\u001B[0;32m   2228\u001B[0m     optional_kws \u001B[38;5;241m=\u001B[39m {  \u001B[38;5;66;03m# Passed by print_figure for other renderers.\u001B[39;00m\n\u001B[0;32m   2229\u001B[0m         \u001B[38;5;124m\"\u001B[39m\u001B[38;5;124mdpi\u001B[39m\u001B[38;5;124m\"\u001B[39m, \u001B[38;5;124m\"\u001B[39m\u001B[38;5;124mfacecolor\u001B[39m\u001B[38;5;124m\"\u001B[39m, \u001B[38;5;124m\"\u001B[39m\u001B[38;5;124medgecolor\u001B[39m\u001B[38;5;124m\"\u001B[39m, \u001B[38;5;124m\"\u001B[39m\u001B[38;5;124morientation\u001B[39m\u001B[38;5;124m\"\u001B[39m,\n\u001B[0;32m   2230\u001B[0m         \u001B[38;5;124m\"\u001B[39m\u001B[38;5;124mbbox_inches_restore\u001B[39m\u001B[38;5;124m\"\u001B[39m}\n\u001B[0;32m   2231\u001B[0m     skip \u001B[38;5;241m=\u001B[39m optional_kws \u001B[38;5;241m-\u001B[39m {\u001B[38;5;241m*\u001B[39minspect\u001B[38;5;241m.\u001B[39msignature(meth)\u001B[38;5;241m.\u001B[39mparameters}\n\u001B[1;32m-> 2232\u001B[0m     print_method \u001B[38;5;241m=\u001B[39m functools\u001B[38;5;241m.\u001B[39mwraps(meth)(\u001B[38;5;28;01mlambda\u001B[39;00m \u001B[38;5;241m*\u001B[39margs, \u001B[38;5;241m*\u001B[39m\u001B[38;5;241m*\u001B[39mkwargs: meth(\n\u001B[0;32m   2233\u001B[0m         \u001B[38;5;241m*\u001B[39margs, \u001B[38;5;241m*\u001B[39m\u001B[38;5;241m*\u001B[39m{k: v \u001B[38;5;28;01mfor\u001B[39;00m k, v \u001B[38;5;129;01min\u001B[39;00m kwargs\u001B[38;5;241m.\u001B[39mitems() \u001B[38;5;28;01mif\u001B[39;00m k \u001B[38;5;129;01mnot\u001B[39;00m \u001B[38;5;129;01min\u001B[39;00m skip}))\n\u001B[0;32m   2234\u001B[0m \u001B[38;5;28;01melse\u001B[39;00m:  \u001B[38;5;66;03m# Let third-parties do as they see fit.\u001B[39;00m\n\u001B[0;32m   2235\u001B[0m     print_method \u001B[38;5;241m=\u001B[39m meth\n",
      "File \u001B[1;32mE:\\anaconda\\Lib\\site-packages\\matplotlib\\backends\\backend_agg.py:509\u001B[0m, in \u001B[0;36mFigureCanvasAgg.print_png\u001B[1;34m(self, filename_or_obj, metadata, pil_kwargs)\u001B[0m\n\u001B[0;32m    462\u001B[0m \u001B[38;5;28;01mdef\u001B[39;00m \u001B[38;5;21mprint_png\u001B[39m(\u001B[38;5;28mself\u001B[39m, filename_or_obj, \u001B[38;5;241m*\u001B[39m, metadata\u001B[38;5;241m=\u001B[39m\u001B[38;5;28;01mNone\u001B[39;00m, pil_kwargs\u001B[38;5;241m=\u001B[39m\u001B[38;5;28;01mNone\u001B[39;00m):\n\u001B[0;32m    463\u001B[0m \u001B[38;5;250m    \u001B[39m\u001B[38;5;124;03m\"\"\"\u001B[39;00m\n\u001B[0;32m    464\u001B[0m \u001B[38;5;124;03m    Write the figure to a PNG file.\u001B[39;00m\n\u001B[0;32m    465\u001B[0m \n\u001B[1;32m   (...)\u001B[0m\n\u001B[0;32m    507\u001B[0m \u001B[38;5;124;03m        *metadata*, including the default 'Software' key.\u001B[39;00m\n\u001B[0;32m    508\u001B[0m \u001B[38;5;124;03m    \"\"\"\u001B[39;00m\n\u001B[1;32m--> 509\u001B[0m     \u001B[38;5;28mself\u001B[39m\u001B[38;5;241m.\u001B[39m_print_pil(filename_or_obj, \u001B[38;5;124m\"\u001B[39m\u001B[38;5;124mpng\u001B[39m\u001B[38;5;124m\"\u001B[39m, pil_kwargs, metadata)\n",
      "File \u001B[1;32mE:\\anaconda\\Lib\\site-packages\\matplotlib\\backends\\backend_agg.py:458\u001B[0m, in \u001B[0;36mFigureCanvasAgg._print_pil\u001B[1;34m(self, filename_or_obj, fmt, pil_kwargs, metadata)\u001B[0m\n\u001B[0;32m    453\u001B[0m \u001B[38;5;250m\u001B[39m\u001B[38;5;124;03m\"\"\"\u001B[39;00m\n\u001B[0;32m    454\u001B[0m \u001B[38;5;124;03mDraw the canvas, then save it using `.image.imsave` (to which\u001B[39;00m\n\u001B[0;32m    455\u001B[0m \u001B[38;5;124;03m*pil_kwargs* and *metadata* are forwarded).\u001B[39;00m\n\u001B[0;32m    456\u001B[0m \u001B[38;5;124;03m\"\"\"\u001B[39;00m\n\u001B[0;32m    457\u001B[0m FigureCanvasAgg\u001B[38;5;241m.\u001B[39mdraw(\u001B[38;5;28mself\u001B[39m)\n\u001B[1;32m--> 458\u001B[0m mpl\u001B[38;5;241m.\u001B[39mimage\u001B[38;5;241m.\u001B[39mimsave(\n\u001B[0;32m    459\u001B[0m     filename_or_obj, \u001B[38;5;28mself\u001B[39m\u001B[38;5;241m.\u001B[39mbuffer_rgba(), \u001B[38;5;28mformat\u001B[39m\u001B[38;5;241m=\u001B[39mfmt, origin\u001B[38;5;241m=\u001B[39m\u001B[38;5;124m\"\u001B[39m\u001B[38;5;124mupper\u001B[39m\u001B[38;5;124m\"\u001B[39m,\n\u001B[0;32m    460\u001B[0m     dpi\u001B[38;5;241m=\u001B[39m\u001B[38;5;28mself\u001B[39m\u001B[38;5;241m.\u001B[39mfigure\u001B[38;5;241m.\u001B[39mdpi, metadata\u001B[38;5;241m=\u001B[39mmetadata, pil_kwargs\u001B[38;5;241m=\u001B[39mpil_kwargs)\n",
      "File \u001B[1;32mE:\\anaconda\\Lib\\site-packages\\matplotlib\\image.py:1689\u001B[0m, in \u001B[0;36mimsave\u001B[1;34m(fname, arr, vmin, vmax, cmap, format, origin, dpi, metadata, pil_kwargs)\u001B[0m\n\u001B[0;32m   1687\u001B[0m pil_kwargs\u001B[38;5;241m.\u001B[39msetdefault(\u001B[38;5;124m\"\u001B[39m\u001B[38;5;124mformat\u001B[39m\u001B[38;5;124m\"\u001B[39m, \u001B[38;5;28mformat\u001B[39m)\n\u001B[0;32m   1688\u001B[0m pil_kwargs\u001B[38;5;241m.\u001B[39msetdefault(\u001B[38;5;124m\"\u001B[39m\u001B[38;5;124mdpi\u001B[39m\u001B[38;5;124m\"\u001B[39m, (dpi, dpi))\n\u001B[1;32m-> 1689\u001B[0m image\u001B[38;5;241m.\u001B[39msave(fname, \u001B[38;5;241m*\u001B[39m\u001B[38;5;241m*\u001B[39mpil_kwargs)\n",
      "File \u001B[1;32mE:\\anaconda\\Lib\\site-packages\\PIL\\Image.py:2431\u001B[0m, in \u001B[0;36mImage.save\u001B[1;34m(self, fp, format, **params)\u001B[0m\n\u001B[0;32m   2428\u001B[0m         fp \u001B[38;5;241m=\u001B[39m builtins\u001B[38;5;241m.\u001B[39mopen(filename, \u001B[38;5;124m\"\u001B[39m\u001B[38;5;124mw+b\u001B[39m\u001B[38;5;124m\"\u001B[39m)\n\u001B[0;32m   2430\u001B[0m \u001B[38;5;28;01mtry\u001B[39;00m:\n\u001B[1;32m-> 2431\u001B[0m     save_handler(\u001B[38;5;28mself\u001B[39m, fp, filename)\n\u001B[0;32m   2432\u001B[0m \u001B[38;5;28;01mexcept\u001B[39;00m \u001B[38;5;167;01mException\u001B[39;00m:\n\u001B[0;32m   2433\u001B[0m     \u001B[38;5;28;01mif\u001B[39;00m open_fp:\n",
      "File \u001B[1;32mE:\\anaconda\\Lib\\site-packages\\PIL\\PngImagePlugin.py:1420\u001B[0m, in \u001B[0;36m_save\u001B[1;34m(im, fp, filename, chunk, save_all)\u001B[0m\n\u001B[0;32m   1418\u001B[0m     _write_multiple_frames(im, fp, chunk, rawmode, default_image, append_images)\n\u001B[0;32m   1419\u001B[0m \u001B[38;5;28;01melse\u001B[39;00m:\n\u001B[1;32m-> 1420\u001B[0m     ImageFile\u001B[38;5;241m.\u001B[39m_save(im, _idat(fp, chunk), [(\u001B[38;5;124m\"\u001B[39m\u001B[38;5;124mzip\u001B[39m\u001B[38;5;124m\"\u001B[39m, (\u001B[38;5;241m0\u001B[39m, \u001B[38;5;241m0\u001B[39m) \u001B[38;5;241m+\u001B[39m im\u001B[38;5;241m.\u001B[39msize, \u001B[38;5;241m0\u001B[39m, rawmode)])\n\u001B[0;32m   1422\u001B[0m \u001B[38;5;28;01mif\u001B[39;00m info:\n\u001B[0;32m   1423\u001B[0m     \u001B[38;5;28;01mfor\u001B[39;00m info_chunk \u001B[38;5;129;01min\u001B[39;00m info\u001B[38;5;241m.\u001B[39mchunks:\n",
      "File \u001B[1;32mE:\\anaconda\\Lib\\site-packages\\PIL\\ImageFile.py:522\u001B[0m, in \u001B[0;36m_save\u001B[1;34m(im, fp, tile, bufsize)\u001B[0m\n\u001B[0;32m    520\u001B[0m     _encode_tile(im, fp, tile, bufsize, fh)\n\u001B[0;32m    521\u001B[0m \u001B[38;5;28;01mexcept\u001B[39;00m (\u001B[38;5;167;01mAttributeError\u001B[39;00m, io\u001B[38;5;241m.\u001B[39mUnsupportedOperation) \u001B[38;5;28;01mas\u001B[39;00m exc:\n\u001B[1;32m--> 522\u001B[0m     _encode_tile(im, fp, tile, bufsize, \u001B[38;5;28;01mNone\u001B[39;00m, exc)\n\u001B[0;32m    523\u001B[0m \u001B[38;5;28;01mif\u001B[39;00m \u001B[38;5;28mhasattr\u001B[39m(fp, \u001B[38;5;124m\"\u001B[39m\u001B[38;5;124mflush\u001B[39m\u001B[38;5;124m\"\u001B[39m):\n\u001B[0;32m    524\u001B[0m     fp\u001B[38;5;241m.\u001B[39mflush()\n",
      "File \u001B[1;32mE:\\anaconda\\Lib\\site-packages\\PIL\\ImageFile.py:541\u001B[0m, in \u001B[0;36m_encode_tile\u001B[1;34m(im, fp, tile, bufsize, fh, exc)\u001B[0m\n\u001B[0;32m    538\u001B[0m \u001B[38;5;28;01mif\u001B[39;00m exc:\n\u001B[0;32m    539\u001B[0m     \u001B[38;5;66;03m# compress to Python file-compatible object\u001B[39;00m\n\u001B[0;32m    540\u001B[0m     \u001B[38;5;28;01mwhile\u001B[39;00m \u001B[38;5;28;01mTrue\u001B[39;00m:\n\u001B[1;32m--> 541\u001B[0m         l, s, d \u001B[38;5;241m=\u001B[39m encoder\u001B[38;5;241m.\u001B[39mencode(bufsize)\n\u001B[0;32m    542\u001B[0m         fp\u001B[38;5;241m.\u001B[39mwrite(d)\n\u001B[0;32m    543\u001B[0m         \u001B[38;5;28;01mif\u001B[39;00m s:\n",
      "\u001B[1;31mKeyboardInterrupt\u001B[0m: "
     ]
    },
    {
     "data": {
      "text/plain": "<Figure size 800x700 with 1 Axes>",
      "image/png": "[encoded data removed]"
     },
     "metadata": {},
     "output_type": "display_data"
    }
   ],
   "source": [
    "# Show the shortest path \n",
    "mz.animate_solution(maze, path)"
   ],
   "metadata": {
    "collapsed": false
   },
   "id": "362ed3ddd401fc70"
  },
  {
   "cell_type": "markdown",
   "source": [
    " #### d)For T = 1,..., 30 compute a policy that maximizes the probability of exiting the maze alive (in the shortest time possible) and plot the probability. Is there a difference if the minotaur is allowed to stand still? If so, why?\n",
    " The probability would drop a bit if the Minotaur is allowed to stand still. Because the action space of the Minotaur is more complex and more unpredictable. Thus, it is harder to make an optimal decision to help the player exit the maze."
   ],
   "metadata": {
    "collapsed": false
   },
   "id": "3639ceabfd752c9a"
  },
  {
   "cell_type": "code",
   "execution_count": null,
   "outputs": [],
   "source": [
    "import matplotlib.pyplot as pyplt\n",
    "\n",
    "N = 1000;\n",
    "T = 31;\n",
    "rate = [];\n",
    "for t in range(1, T):\n",
    "    success_cnt = 0;\n",
    "    horizon = t;\n",
    "    # Solve the MDP problem with dynamic programming \n",
    "    V, policy= mz.dynamic_programming(env,horizon);\n",
    "    for i in range(0, N):\n",
    "        method = 'DynProg';\n",
    "        start  = (0, 0, 6, 5);\n",
    "        path, flag= env.simulate(start, policy, method);\n",
    "        if flag:\n",
    "            success_cnt = success_cnt + 1;\n",
    "    success_rate = success_cnt/N;\n",
    "    rate.append(success_rate);\n",
    "\n",
    "pyplt.plot(rate);"
   ],
   "metadata": {
    "collapsed": false,
    "ExecuteTime": {
     "start_time": "2023-11-27T20:20:48.305588Z"
    }
   },
   "id": "bd9a6abadecd149c"
  },
  {
   "cell_type": "code",
   "execution_count": null,
   "outputs": [],
   "source": [
    "import matplotlib.pyplot as pyplt\n",
    "\n",
    "env = mz.Maze(maze, Stay=True) # monitaur can be still\n",
    "\n",
    "N = 1000;\n",
    "T = 31;\n",
    "rate = [];\n",
    "for t in range(1, T):\n",
    "    success_cnt = 0;\n",
    "    horizon = t;\n",
    "    # Solve the MDP problem with dynamic programming \n",
    "    V, policy= mz.dynamic_programming(env,horizon);\n",
    "    for i in range(0, N):\n",
    "        method = 'DynProg';\n",
    "        start  = (0, 0, 6, 5);\n",
    "        path, flag= env.simulate(start, policy, method);\n",
    "        if flag:\n",
    "            success_cnt = success_cnt + 1;\n",
    "    success_rate = success_cnt/N;\n",
    "    rate.append(success_rate);\n",
    "\n",
    "pyplt.plot(rate);"
   ],
   "metadata": {
    "collapsed": false,
    "ExecuteTime": {
     "start_time": "2023-11-27T20:20:48.306587900Z"
    }
   },
   "id": "8865ec3eb47d27d6"
  },
  {
   "cell_type": "markdown",
   "source": [],
   "metadata": {
    "collapsed": false
   },
   "id": "f33a0048d96bd588"
  },
  {
   "cell_type": "markdown",
   "source": [
    "#### e) The state \"game over by poison\" should be added to state space. And adding another reward of POISON_REWARD = -100.\n",
    "The probability of transition will change because of new additional state. The action space and remain the same.\n",
    "$$Alive: \\\\\n",
    "r'(s,a) = r(s,a) \\\\ p'(s'|s,a) = \\frac{29}{30} p(s'|s,a) \\\\\n",
    "Dead: \\\\ r'(s,a) = -100 \\\\ p'(s'|s,a) = \\frac{1}{30}\n",
    "$$"
   ],
   "metadata": {
    "collapsed": false
   },
   "id": "444b2213c57dcb1a"
  },
  {
   "cell_type": "code",
   "execution_count": 15,
   "outputs": [
    {
     "name": "stdout",
     "output_type": "stream",
     "text": [
      "1540.385167316568\n",
      "1460.8146129704185\n",
      "1342.1125261416737\n",
      "1231.7380159711113\n",
      "1129.6956819743918\n",
      "1036.0555282853393\n",
      "950.7468843979738\n",
      "872.0334041119271\n",
      "799.2982484029862\n",
      "732.5580580395865\n",
      "671.0322430955216\n",
      "614.2545110038751\n",
      "562.4453533442352\n",
      "514.8329880771142\n",
      "471.58191377953085\n",
      "432.5765568486658\n",
      "397.1658525893629\n",
      "364.730641294565\n",
      "334.9443055888421\n",
      "307.5905206324195\n",
      "282.4706281141053\n",
      "259.40219348478706\n",
      "238.2176810168625\n",
      "218.76323706715198\n",
      "200.89757270666797\n",
      "184.49093760229\n",
      "169.4241776981035\n",
      "155.5878698527585\n",
      "142.88152714811574\n",
      "131.21286909768668\n",
      "120.49715145470901\n",
      "110.65655075257432\n",
      "101.61959910778047\n",
      "93.32066518064502\n",
      "85.69947752422584\n",
      "78.70068685974726\n",
      "72.27346409953522\n",
      "66.37113119807287\n",
      "60.95082215023032\n",
      "55.97317167462802\n",
      "51.402029321200104\n",
      "47.20419692663519\n",
      "43.34918751096004\n",
      "39.80900386423183\n",
      "36.55793521531979\n",
      "33.572370506068346\n",
      "30.830626914739582\n",
      "28.31279238336932\n",
      "26.00058100539374\n",
      "23.87720022328667\n",
      "21.927228871718572\n",
      "20.136505180528264\n",
      "18.492023924118048\n",
      "16.981841970315042\n",
      "15.594991542739638\n",
      "14.321400566749276\n",
      "13.15181952046449\n",
      "12.077754259626628\n",
      "11.091404328423929\n",
      "10.185606308268877\n",
      "9.353781793093946\n",
      "8.58988961332408\n",
      "7.888381961569581\n",
      "7.244164101374857\n",
      "6.652557366429109\n",
      "6.10926518150401\n",
      "5.610341858348432\n",
      "5.152163939916279\n",
      "4.731403884822931\n",
      "4.3450059008958295\n",
      "3.990163752322858\n",
      "3.6643003792161815\n",
      "3.3650491815804493\n",
      "3.0902368317512674\n",
      "2.837867490491846\n",
      "2.606108312101334\n",
      "2.3932761332800485\n",
      "2.197825249062264\n",
      "2.0183361870553376\n",
      "1.8535053984457122\n",
      "1.7021357909060588\n",
      "1.5631280346491696\n",
      "1.4354725784856421\n",
      "1.3182423179088332\n",
      "1.2105858619467462\n",
      "1.1117213498876157\n",
      "1.0209307729801922\n",
      "0.9375547598534302\n",
      "0.8609877877986951\n",
      "0.7906737851287943\n",
      "0.7261020926765536\n",
      "0.6668037551079071\n",
      "0.6123481151071859\n",
      "0.5623396857068845\n",
      "0.5164152780409771\n",
      "0.4742413636676059\n",
      "0.4355116523009445\n",
      "0.39994486736345947\n",
      "0.36728270319528306\n",
      "0.33728794910093296\n",
      "0.30974276659111066\n",
      "0.2844471073197382\n",
      "0.2612172602217794\n",
      "0.23988451730361202\n",
      "0.2202939483908404\n",
      "0.2023032759387788\n",
      "0.18578184173699813\n",
      "0.170609657994782\n",
      "0.15667653592550615\n",
      "0.14388128549163062\n",
      "0.1321309805103106\n",
      "0.12134028376813291\n",
      "0.111430827260323\n",
      "0.10233064303386091\n",
      "0.09397364051962641\n",
      "0.0862991265442008\n",
      "0.07925136454267105\n",
      "0.07277916977198991\n",
      "0.06683553757418315\n",
      "0.06137730200491135\n",
      "0.05636482234153117\n",
      "0.05176169518390231\n",
      "0.047534490076948877\n",
      "0.043652506720673834\n",
      "0.040087552005335765\n",
      "0.03681373525845052\n",
      "0.03380728021180033\n",
      "0.03104635232789018\n",
      "0.028510900221258653\n",
      "0.026182510036560098\n",
      "0.024044271716932727\n",
      "0.02208065619313031\n",
      "0.020277402604203888\n",
      "0.018621414725213364\n",
      "0.017100665855521505\n",
      "0.015704111477502752\n",
      "0.014421609040334904\n",
      "0.013243844301867466\n",
      "0.012162263683947398\n",
      "0.011169012149817307\n",
      "0.010256876157522384\n",
      "0.009419231271253688\n",
      "0.008649994050891284\n",
      "0.00794357786989258\n",
      "0.007294852344198745\n",
      "0.006699106069478881\n",
      "0.006152012406938528\n",
      "0.0056495980602744005\n",
      "0.005188214218752746\n",
      "0.0047645100573061\n",
      "0.0043754084023653475\n",
      "0.004018083383282446\n",
      "0.0036899399069661135\n",
      "0.0033885948140801674\n",
      "0.0031118595711729508\n",
      "0.0028577243729736193\n",
      "0.0026243435492145817\n",
      "0.00241002215929099\n",
      "0.0022132036825813026\n",
      "0.002032458715669989\n",
      "0.0018664745875007298\n",
      "0.0017140458290382285\n",
      "0.001574065419541797\n",
      "0.0014455167438825356\n",
      "0.0013274662095597949\n",
      "0.0012190564689859606\n",
      "0.0011195001908394491\n",
      "0.0010280743418605942\n",
      "0.0009441149375117342\n",
      "0.0008670122176504695\n",
      "0.0007962062196522922\n",
      "0.0007311827120399209\n",
      "0.0006714694571041326\n",
      "0.0006166327845149662\n",
      "0.0005662744405671845\n",
      "0.0005200286947754132\n",
      "0.00047755968489903566\n",
      "0.00043855897680367833\n",
      "0.0004027433271873586\n",
      "0.00036985262226207303\n",
      "0.0003396479912930795\n",
      "0.00031191007228066934\n",
      "0.0002864374160457756\n",
      "0.000263045026963501\n",
      "0.00024156301643793695\n",
      "0.00022183537029048166\n",
      "0.00020371881488656724\n",
      "0.000187081778316011\n",
      "0.00017180343342640316\n",
      "0.00015777281934662625\n",
      "0.0001448880395512265\n",
      "0.00013305551588707701\n",
      "0.00012218931558822637\n",
      "0.00011221052154607392\n",
      "0.00010304666260254269\n",
      "9.46311847937892e-05\n",
      "8.69029715925981e-05\n",
      "7.980589565035796e-05\n",
      "7.328841386882958e-05\n",
      "6.73031936400098e-05\n"
     ]
    }
   ],
   "source": [
    "# Discount Factor \n",
    "gamma   = 0.95; \n",
    "# Accuracy threshold \n",
    "epsilon = 0.0001;\n",
    "V, policy = mz.value_iteration(env, gamma, epsilon, poison_mode=True)"
   ],
   "metadata": {
    "collapsed": false,
    "ExecuteTime": {
     "end_time": "2023-11-27T20:21:31.017297800Z",
     "start_time": "2023-11-27T20:21:14.309341300Z"
    }
   },
   "id": "eb3aba482609107f"
  },
  {
   "cell_type": "code",
   "execution_count": 16,
   "outputs": [
    {
     "name": "stdout",
     "output_type": "stream",
     "text": [
      "[(0, 0, 6, 5), (0, 1, 5, 5), (1, 1, 4, 5), (2, 1, 3, 5), (3, 1, 2, 5), (4, 1, 1, 5), (4, 2, 0, 5), (4, 3, 0, 6), (4, 4, 1, 6), (4, 5, 1, 5), (4, 6, 1, 6), (4, 7, 1, 5), (5, 7, 1, 4), (6, 7, 1, 5), (6, 6, 2, 5), (6, 5, 3, 5), (6, 5, 3, 4)]\n"
     ]
    }
   ],
   "source": [
    "method = 'ValIter';\n",
    "start  = (0,0,6,5);\n",
    "path, _ = env.simulate(start, policy, method)\n",
    "print(path)"
   ],
   "metadata": {
    "collapsed": false,
    "ExecuteTime": {
     "end_time": "2023-11-27T20:21:31.017297800Z",
     "start_time": "2023-11-27T20:21:31.011273800Z"
    }
   },
   "id": "fa77045d2a3d4a0c"
  },
  {
   "cell_type": "code",
   "execution_count": 17,
   "outputs": [
    {
     "data": {
      "text/plain": "<Figure size 800x700 with 1 Axes>",
      "image/png": "[encoded data removed]"
     },
     "metadata": {},
     "output_type": "display_data"
    }
   ],
   "source": [
    "# Show the shortest path \n",
    "mz.animate_solution(maze, path)"
   ],
   "metadata": {
    "collapsed": false
   },
   "id": "372cbeb3d941ea6c"
  },
  {
   "cell_type": "markdown",
   "source": [
    "#### (f)Estimate the probability of getting out alive using this policy by simulating 10000 games."
   ],
   "metadata": {
    "collapsed": false
   },
   "id": "3a1e08f2f2ab885"
  },
  {
   "cell_type": "code",
   "execution_count": 18,
   "outputs": [
    {
     "name": "stdout",
     "output_type": "stream",
     "text": [
      "0.5461\n"
     ]
    }
   ],
   "source": [
    "N = 10000;\n",
    "success_cnt = 0;\n",
    "for i in range(0,N):\n",
    "    path, flag = env.simulate(start, policy, method);\n",
    "    if flag:\n",
    "        success_cnt = success_cnt + 1;\n",
    "success_rate  = success_cnt/N;\n",
    "print(success_rate)\n",
    "        "
   ],
   "metadata": {
    "collapsed": false,
    "ExecuteTime": {
     "end_time": "2023-11-27T20:21:35.660972500Z",
     "start_time": "2023-11-27T20:21:34.540738800Z"
    }
   },
   "id": "86a9eef21e2ff20f"
  },
  {
   "cell_type": "markdown",
   "source": [
    "## Additional Questions\n",
    "#### g) Theoretical questions:\n",
    "##### 1)What does it mean that a learning method is on-policy or off-policy?\n",
    "\n",
    "Observations in on-policy is generated under the policy $\\pi_k$. Through iterations, $\\pi_k$ will converge to the optimal policy.\n",
    "Off-policy obtain observations from a certain policy $\\pi_b$. It learns from the historical data.\n",
    "\n",
    "##### 2)State the convergence conditions for Q-learning and SARSA.\n",
    "  \n",
    "The convergence condition for Q-learning is showed belowed,\n",
    "  the learning rate,$\\alpha_t$should satisfy\n",
    "    $\\sum_{t=0}^{\\infty}\\alpha_t=\\infty$ and $\\sum_{t=0}^{\\infty}\\alpha_t^2 < \\infty$,\n",
    "    and the behaviour exploring the state and action space enough.\n",
    "  \n",
    "SARSA cannot converge to a optimal policy, but when t is large enough, $\\pi_t$ could be regarded as the optimal policy approximately.\n"
   ],
   "metadata": {
    "collapsed": false
   },
   "id": "1ae91ec919aa0520"
  }
 ],
 "metadata": {
  "kernelspec": {
   "display_name": "Python 3",
   "language": "python",
   "name": "python3"
  },
  "language_info": {
   "codemirror_mode": {
    "name": "ipython",
    "version": 2
   },
   "file_extension": ".py",
   "mimetype": "text/x-python",
   "name": "python",
   "nbconvert_exporter": "python",
   "pygments_lexer": "ipython2",
   "version": "2.7.6"
  }
 },
 "nbformat": 4,
 "nbformat_minor": 5
}
